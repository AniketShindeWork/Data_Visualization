{
 "cells": [
  {
   "cell_type": "markdown",
   "metadata": {},
   "source": [
    "### Importing Libraries"
   ]
  },
  {
   "cell_type": "code",
   "execution_count": 2,
   "metadata": {},
   "outputs": [],
   "source": [
    "import numpy as np\n",
    "import pandas as pd\n",
    "import matplotlib.pyplot as plt\n",
    "from sklearn.preprocessing import StandardScaler\n",
    "from sklearn.decomposition import PCA\n",
    "from sklearn.cluster import KMeans\n",
    "from sklearn.manifold import TSNE\n",
    "import plotly.graph_objs as go\n",
    "import plotly .offline as offline\n",
    "import plotly.figure_factory as ff"
   ]
  },
  {
   "cell_type": "markdown",
   "metadata": {},
   "source": [
    "### Importing DataSet and gaining some Information"
   ]
  },
  {
   "cell_type": "code",
   "execution_count": 3,
   "metadata": {},
   "outputs": [
    {
     "name": "stdout",
     "output_type": "stream",
     "text": [
      "   Elevation  Slope  Horizontal_Distance_To_Hydrology  \\\n",
      "0       2596      3                               258   \n",
      "1       2590      2                               212   \n",
      "2       2804      9                               268   \n",
      "3       2785     18                               242   \n",
      "4       2595      2                               153   \n",
      "\n",
      "   Vertical_Distance_To_Hydrology  Horizontal_Distance_To_Roadways  \\\n",
      "0                               0                              510   \n",
      "1                              -6                              390   \n",
      "2                              65                             3180   \n",
      "3                             118                             3090   \n",
      "4                              -1                              391   \n",
      "\n",
      "   Horizontal_Distance_To_Fire_Points   Tree  \n",
      "0                                6279  Other  \n",
      "1                                6225  Other  \n",
      "2                                6121  Other  \n",
      "3                                6211  Other  \n",
      "4                                6172  Other  \n",
      "(15120, 7)\n",
      "<class 'pandas.core.frame.DataFrame'>\n",
      "RangeIndex: 15120 entries, 0 to 15119\n",
      "Data columns (total 7 columns):\n",
      " #   Column                              Non-Null Count  Dtype \n",
      "---  ------                              --------------  ----- \n",
      " 0   Elevation                           15120 non-null  int64 \n",
      " 1   Slope                               15120 non-null  int64 \n",
      " 2   Horizontal_Distance_To_Hydrology    15120 non-null  int64 \n",
      " 3   Vertical_Distance_To_Hydrology      15120 non-null  int64 \n",
      " 4   Horizontal_Distance_To_Roadways     15120 non-null  int64 \n",
      " 5   Horizontal_Distance_To_Fire_Points  15120 non-null  int64 \n",
      " 6   Tree                                15120 non-null  object\n",
      "dtypes: int64(6), object(1)\n",
      "memory usage: 827.0+ KB\n",
      "None\n",
      "          Elevation         Slope  Horizontal_Distance_To_Hydrology  \\\n",
      "count  15120.000000  15120.000000                      15120.000000   \n",
      "mean    2749.322553     16.501587                        227.195701   \n",
      "std      417.678187      8.453927                        210.075296   \n",
      "min     1863.000000      0.000000                          0.000000   \n",
      "25%     2376.000000     10.000000                         67.000000   \n",
      "50%     2752.000000     15.000000                        180.000000   \n",
      "75%     3104.000000     22.000000                        330.000000   \n",
      "max     3849.000000     52.000000                       1343.000000   \n",
      "\n",
      "       Vertical_Distance_To_Hydrology  Horizontal_Distance_To_Roadways  \\\n",
      "count                    15120.000000                     15120.000000   \n",
      "mean                        51.076521                      1714.023214   \n",
      "std                         61.239406                      1325.066358   \n",
      "min                       -146.000000                         0.000000   \n",
      "25%                          5.000000                       764.000000   \n",
      "50%                         32.000000                      1316.000000   \n",
      "75%                         79.000000                      2270.000000   \n",
      "max                        554.000000                      6890.000000   \n",
      "\n",
      "       Horizontal_Distance_To_Fire_Points  \n",
      "count                        15120.000000  \n",
      "mean                          1511.147288  \n",
      "std                           1099.936493  \n",
      "min                              0.000000  \n",
      "25%                            730.000000  \n",
      "50%                           1256.000000  \n",
      "75%                           1988.250000  \n",
      "max                           6993.000000  \n"
     ]
    }
   ],
   "source": [
    "dataset = pd.read_csv(\"Patches.csv\")\n",
    "print(dataset.head())\n",
    "print(dataset.shape)\n",
    "print(dataset.info())\n",
    "print(dataset.describe())"
   ]
  },
  {
   "cell_type": "markdown",
   "metadata": {},
   "source": [
    "### Converting Categorical Data into Numeric"
   ]
  },
  {
   "cell_type": "code",
   "execution_count": 4,
   "metadata": {},
   "outputs": [],
   "source": [
    "dataset['Tree'] = dataset['Tree'].map({'Spruce':1, 'Other':0})"
   ]
  },
  {
   "cell_type": "markdown",
   "metadata": {},
   "source": [
    "### Correlation and Causation"
   ]
  },
  {
   "cell_type": "code",
   "execution_count": 5,
   "metadata": {},
   "outputs": [
    {
     "data": {
      "text/plain": [
       "'corrheatmap.html'"
      ]
     },
     "execution_count": 5,
     "metadata": {},
     "output_type": "execute_result"
    }
   ],
   "source": [
    "corrs = dataset.corr()\n",
    "figure = ff.create_annotated_heatmap(\n",
    "    z=corrs.values,\n",
    "    x=list(corrs.columns),\n",
    "    y=list(corrs.index),\n",
    "    annotation_text=corrs.round(2).values,\n",
    "    showscale=True)\n",
    "offline.plot(figure,filename='corrheatmap.html')\n"
   ]
  },
  {
   "cell_type": "code",
   "execution_count": 6,
   "metadata": {},
   "outputs": [],
   "source": [
    "X = dataset"
   ]
  },
  {
   "cell_type": "markdown",
   "metadata": {},
   "source": [
    "### Converter"
   ]
  },
  {
   "cell_type": "code",
   "execution_count": 7,
   "metadata": {},
   "outputs": [],
   "source": [
    "# Defining if slope was high or low\n",
    "def converter(column):\n",
    "    if column <= 16.50:\n",
    "        return 1 # Low\n",
    "    else:\n",
    "        return 0 # High\n"
   ]
  },
  {
   "cell_type": "markdown",
   "metadata": {},
   "source": [
    "### Applying the Converter"
   ]
  },
  {
   "cell_type": "code",
   "execution_count": 8,
   "metadata": {},
   "outputs": [
    {
     "name": "stdout",
     "output_type": "stream",
     "text": [
      "   Elevation  Slope  Horizontal_Distance_To_Hydrology  \\\n",
      "0       2596      1                               258   \n",
      "1       2590      1                               212   \n",
      "2       2804      1                               268   \n",
      "3       2785      0                               242   \n",
      "4       2595      1                               153   \n",
      "\n",
      "   Vertical_Distance_To_Hydrology  Horizontal_Distance_To_Roadways  \\\n",
      "0                               0                              510   \n",
      "1                              -6                              390   \n",
      "2                              65                             3180   \n",
      "3                             118                             3090   \n",
      "4                              -1                              391   \n",
      "\n",
      "   Horizontal_Distance_To_Fire_Points  Tree  \n",
      "0                                6279     0  \n",
      "1                                6225     0  \n",
      "2                                6121     0  \n",
      "3                                6211     0  \n",
      "4                                6172     0  \n",
      "<class 'pandas.core.frame.DataFrame'>\n",
      "RangeIndex: 15120 entries, 0 to 15119\n",
      "Data columns (total 7 columns):\n",
      " #   Column                              Non-Null Count  Dtype\n",
      "---  ------                              --------------  -----\n",
      " 0   Elevation                           15120 non-null  int64\n",
      " 1   Slope                               15120 non-null  int64\n",
      " 2   Horizontal_Distance_To_Hydrology    15120 non-null  int64\n",
      " 3   Vertical_Distance_To_Hydrology      15120 non-null  int64\n",
      " 4   Horizontal_Distance_To_Roadways     15120 non-null  int64\n",
      " 5   Horizontal_Distance_To_Fire_Points  15120 non-null  int64\n",
      " 6   Tree                                15120 non-null  int64\n",
      "dtypes: int64(7)\n",
      "memory usage: 827.0 KB\n",
      "None\n"
     ]
    }
   ],
   "source": [
    "X['Slope'] = X['Slope'].apply(converter)\n",
    "print(X.head())\n",
    "print(X.info())\n"
   ]
  },
  {
   "cell_type": "markdown",
   "metadata": {},
   "source": [
    "### Dividing into Subsets"
   ]
  },
  {
   "cell_type": "code",
   "execution_count": 9,
   "metadata": {},
   "outputs": [],
   "source": [
    "# Dividing data into subsets\n",
    "subset1 = X[['Slope','Elevation','Tree']]"
   ]
  },
  {
   "cell_type": "markdown",
   "metadata": {},
   "source": [
    "### Normalizing the numeric variables of subsets"
   ]
  },
  {
   "cell_type": "code",
   "execution_count": 10,
   "metadata": {},
   "outputs": [],
   "source": [
    "# Normalizing numerical features so that each feature has mean 0 and variance 1\n",
    "feature_scaler = StandardScaler()\n",
    "X1 = feature_scaler.fit_transform(subset1)"
   ]
  },
  {
   "cell_type": "code",
   "execution_count": 11,
   "metadata": {},
   "outputs": [
    {
     "data": {
      "image/png": "[encoded data removed]",
      "text/plain": [
       "<Figure size 432x288 with 1 Axes>"
      ]
     },
     "metadata": {
      "needs_background": "light"
     },
     "output_type": "display_data"
    }
   ],
   "source": [
    "# Finding the number of clusters (K) - Elbow Plot Method\n",
    "inertia = []\n",
    "for i in range(1,11):\n",
    "    kmeans = KMeans(n_clusters = i, random_state = 100)\n",
    "    kmeans.fit(X1)\n",
    "    inertia.append(kmeans.inertia_)\n",
    "plt.plot(range(1, 11), inertia)\n",
    "plt.title('The Elbow Plot')\n",
    "plt.xlabel('Number of clusters')\n",
    "plt.ylabel('Inertia')\n",
    "plt.show()"
   ]
  },
  {
   "cell_type": "code",
   "execution_count": 12,
   "metadata": {},
   "outputs": [
    {
     "data": {
      "text/plain": [
       "KMeans(algorithm='auto', copy_x=True, init='k-means++', max_iter=300,\n",
       "       n_clusters=2, n_init=10, n_jobs=None, precompute_distances='auto',\n",
       "       random_state=None, tol=0.0001, verbose=0)"
      ]
     },
     "execution_count": 12,
     "metadata": {},
     "output_type": "execute_result"
    }
   ],
   "source": [
    "# Running KMeans to generate labels\n",
    "kmeans = KMeans(n_clusters = 2)\n",
    "kmeans.fit(X1)"
   ]
  },
  {
   "cell_type": "markdown",
   "metadata": {},
   "source": [
    "### T-SNE"
   ]
  },
  {
   "cell_type": "code",
   "execution_count": 13,
   "metadata": {},
   "outputs": [
    {
     "data": {
      "text/plain": [
       "'t-SNE.html'"
      ]
     },
     "execution_count": 13,
     "metadata": {},
     "output_type": "execute_result"
    }
   ],
   "source": [
    "\n",
    "# Implementing t-SNE to visualize dataset\n",
    "tsne = TSNE(n_components = 2, perplexity =35,n_iter=2500)\n",
    "x_tsne = tsne.fit_transform(X1)\n",
    "\n",
    "Elevation = list(X['Elevation'])\n",
    "Slope = list(dataset['Slope'])\n",
    "Tree = list(dataset['Tree'])\n",
    "\n",
    "data = [go.Scatter(x=x_tsne[:,0], y=x_tsne[:,1], mode='markers',\n",
    "                    marker = dict(color=kmeans.labels_, colorscale='Rainbow', opacity=0.5),\n",
    "                                text=[f'Slope:{a}, Elevation: {b},Tree: {c}' for a,b,c in list(zip(Slope,Elevation,Tree))],\n",
    "                                hoverinfo='text')]\n",
    "layout = go.Layout(title = 't-SNE Dimensionality Reduction 2500_35_iteration_2_SlopeElevationVertical_Distance_To_Hydrology', width = 700, height = 700,\n",
    "                    xaxis = dict(title='First Dimension'),\n",
    "                    yaxis = dict(title='Second Dimension'))\n",
    "fig = go.Figure(data=data, layout=layout)\n",
    "offline.plot(fig,filename='t-SNE.html')\n"
   ]
  },
  {
   "cell_type": "code",
   "execution_count": null,
   "metadata": {},
   "outputs": [],
   "source": []
  }
 ],
 "metadata": {
  "kernelspec": {
   "display_name": "Python 3",
   "language": "python",
   "name": "python3"
  },
  "language_info": {
   "codemirror_mode": {
    "name": "ipython",
    "version": 3
   },
   "file_extension": ".py",
   "mimetype": "text/x-python",
   "name": "python",
   "nbconvert_exporter": "python",
   "pygments_lexer": "ipython3",
   "version": "3.8.2"
  }
 },
 "nbformat": 4,
 "nbformat_minor": 4
}

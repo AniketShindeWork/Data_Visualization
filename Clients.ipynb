{
 "cells": [
  {
   "cell_type": "markdown",
   "metadata": {},
   "source": [
    "### Importing Libraries"
   ]
  },
  {
   "cell_type": "code",
   "execution_count": 1,
   "metadata": {},
   "outputs": [],
   "source": [
    "import numpy as np\n",
    "import pandas as pd\n",
    "import matplotlib.pyplot as plt\n",
    "from sklearn.preprocessing import StandardScaler\n",
    "from sklearn.decomposition import PCA\n",
    "from sklearn.cluster import KMeans\n",
    "from sklearn.manifold import TSNE\n",
    "import plotly.graph_objs as go\n",
    "import plotly .offline as offline\n",
    "import plotly.figure_factory as ff"
   ]
  },
  {
   "cell_type": "markdown",
   "metadata": {},
   "source": [
    "### Importing DataSet and gaining some Information"
   ]
  },
  {
   "cell_type": "code",
   "execution_count": 2,
   "metadata": {},
   "outputs": [
    {
     "name": "stdout",
     "output_type": "stream",
     "text": [
      "   age           job  marital  education default  balance housing personal  \\\n",
      "0   58    management  married   tertiary      no     2143     yes       no   \n",
      "1   44    technician   single  secondary      no       29     yes       no   \n",
      "2   33  entrepreneur  married  secondary      no        2     yes      yes   \n",
      "3   35    management  married   tertiary      no      231     yes       no   \n",
      "4   28    management   single   tertiary      no      447     yes      yes   \n",
      "\n",
      "  term  \n",
      "0   no  \n",
      "1   no  \n",
      "2   no  \n",
      "3   no  \n",
      "4   no  \n",
      "(43193, 9)\n",
      "<class 'pandas.core.frame.DataFrame'>\n",
      "RangeIndex: 43193 entries, 0 to 43192\n",
      "Data columns (total 9 columns):\n",
      " #   Column     Non-Null Count  Dtype \n",
      "---  ------     --------------  ----- \n",
      " 0   age        43193 non-null  int64 \n",
      " 1   job        43193 non-null  object\n",
      " 2   marital    43193 non-null  object\n",
      " 3   education  43193 non-null  object\n",
      " 4   default    43193 non-null  object\n",
      " 5   balance    43193 non-null  int64 \n",
      " 6   housing    43193 non-null  object\n",
      " 7   personal   43193 non-null  object\n",
      " 8   term       43193 non-null  object\n",
      "dtypes: int64(2), object(7)\n",
      "memory usage: 3.0+ MB\n",
      "None\n",
      "                age        balance\n",
      "count  43193.000000   43193.000000\n",
      "mean      40.764082    1354.027342\n",
      "std       10.512640    3042.103625\n",
      "min       18.000000   -8019.000000\n",
      "25%       33.000000      71.000000\n",
      "50%       39.000000     442.000000\n",
      "75%       48.000000    1412.000000\n",
      "max       95.000000  102127.000000\n"
     ]
    }
   ],
   "source": [
    "# Importing dataset and examining it\n",
    "dataset = pd.read_csv(\"Clients.csv\")\n",
    "print(dataset.head())\n",
    "print(dataset.shape)\n",
    "print(dataset.info())\n",
    "print(dataset.describe())"
   ]
  },
  {
   "cell_type": "markdown",
   "metadata": {},
   "source": [
    "### Converting Categorical Data into Numeric"
   ]
  },
  {
   "cell_type": "code",
   "execution_count": 3,
   "metadata": {},
   "outputs": [],
   "source": [
    "# Converting Categorical features into Numerical features\n",
    "dataset['job'] = dataset['job'].map({'admin.':0, 'blue-collar':1, 'entrepreneur':2, 'housemaid':3, 'management':4, 'retired':5, 'self-employed':6, 'services':7, 'student':8, 'technician':9, 'unemployed':10})\n",
    "dataset['marital'] = dataset['marital'].map({'divorced':0, 'married':1, 'single':2})\n",
    "dataset['education'] = dataset['education'].map({'primary':0, 'secondary':1, 'tertiary':2})\n",
    "dataset['default'] = dataset['default'].map({'no':0, 'yes':1 })\n",
    "dataset['housing'] = dataset['housing'].map({'no':0, 'yes':1})\n",
    "dataset['personal'] = dataset['personal'].map({'no':0, 'yes':1})\n",
    "dataset['term'] = dataset['term'].map({'no':0, 'yes':1})"
   ]
  },
  {
   "cell_type": "markdown",
   "metadata": {},
   "source": [
    "### Correlation and Causation"
   ]
  },
  {
   "cell_type": "code",
   "execution_count": 4,
   "metadata": {},
   "outputs": [
    {
     "name": "stdout",
     "output_type": "stream",
     "text": [
      "<class 'pandas.core.frame.DataFrame'>\n",
      "RangeIndex: 43193 entries, 0 to 43192\n",
      "Data columns (total 9 columns):\n",
      " #   Column     Non-Null Count  Dtype\n",
      "---  ------     --------------  -----\n",
      " 0   age        43193 non-null  int64\n",
      " 1   job        43193 non-null  int64\n",
      " 2   marital    43193 non-null  int64\n",
      " 3   education  43193 non-null  int64\n",
      " 4   default    43193 non-null  int64\n",
      " 5   balance    43193 non-null  int64\n",
      " 6   housing    43193 non-null  int64\n",
      " 7   personal   43193 non-null  int64\n",
      " 8   term       43193 non-null  int64\n",
      "dtypes: int64(9)\n",
      "memory usage: 3.0 MB\n",
      "None\n"
     ]
    },
    {
     "data": {
      "text/plain": [
       "'corrheatmap.html'"
      ]
     },
     "execution_count": 4,
     "metadata": {},
     "output_type": "execute_result"
    }
   ],
   "source": [
    "print(dataset.info())\n",
    "# Plotting Correlation Heatmap\n",
    "corrs = dataset.corr()\n",
    "figure = ff.create_annotated_heatmap(\n",
    "    z=corrs.values,\n",
    "    x=list(corrs.columns),\n",
    "    y=list(corrs.index),\n",
    "    annotation_text=corrs.round(2).values,\n",
    "    showscale=True)\n",
    "offline.plot(figure,filename='corrheatmap.html')\n"
   ]
  },
  {
   "cell_type": "markdown",
   "metadata": {},
   "source": [
    "### Divding the Variables into Subsets"
   ]
  },
  {
   "cell_type": "code",
   "execution_count": 6,
   "metadata": {},
   "outputs": [],
   "source": [
    "X = dataset\n",
    "#Personal Data\n",
    "subset1 = X[['age','job','marital','education']]\n",
    "\n",
    "#Loan Data\n",
    "subset2 = X[['age','balance','housing','personal','term','default']]"
   ]
  },
  {
   "cell_type": "markdown",
   "metadata": {},
   "source": [
    "### Normalizing the numeric variables of subsets"
   ]
  },
  {
   "cell_type": "code",
   "execution_count": 7,
   "metadata": {},
   "outputs": [],
   "source": [
    "# Normalizing numerical features so that each feature has mean 0 and variance 1\n",
    "feature_scaler = StandardScaler()\n",
    "X1 = feature_scaler.fit_transform(subset1)\n",
    "X2 = feature_scaler.fit_transform(subset2)"
   ]
  },
  {
   "cell_type": "code",
   "execution_count": 9,
   "metadata": {},
   "outputs": [
    {
     "data": {
      "image/png": "[encoded data removed]",
      "text/plain": [
       "<Figure size 432x288 with 1 Axes>"
      ]
     },
     "metadata": {
      "needs_background": "light"
     },
     "output_type": "display_data"
    }
   ],
   "source": [
    "# Analysis on subset1 - Personal Data\n",
    "# Finding the number of clusters (K) - Elbow Plot Method\n",
    "inertia = []\n",
    "for i in range(1,11):\n",
    "    kmeans = KMeans(n_clusters = i, random_state = 100)\n",
    "    kmeans.fit(X1)\n",
    "    inertia.append(kmeans.inertia_)\n",
    "\n",
    "plt.plot(range(1, 11), inertia)\n",
    "plt.title('The Elbow Plot')\n",
    "plt.xlabel('Number of clusters')\n",
    "plt.ylabel('Inertia')\n",
    "plt.show()\n"
   ]
  },
  {
   "cell_type": "code",
   "execution_count": 10,
   "metadata": {},
   "outputs": [
    {
     "data": {
      "image/png": "[encoded data removed]",
      "text/plain": [
       "<Figure size 432x288 with 1 Axes>"
      ]
     },
     "metadata": {
      "needs_background": "light"
     },
     "output_type": "display_data"
    }
   ],
   "source": [
    "# Analysis on subset2 - Loan Data\n",
    "# Finding the number of clusters (K) - Elbow Plot Method\n",
    "inertia = []\n",
    "for i in range(1,11):\n",
    "    kmeans = KMeans(n_clusters = i, random_state = 100)\n",
    "    kmeans.fit(X2)\n",
    "    inertia.append(kmeans.inertia_)\n",
    "\n",
    "plt.plot(range(1, 11), inertia)\n",
    "plt.title('The Elbow Plot')\n",
    "plt.xlabel('Number of clusters')\n",
    "plt.ylabel('Inertia')\n",
    "plt.show()"
   ]
  },
  {
   "cell_type": "code",
   "execution_count": 11,
   "metadata": {},
   "outputs": [
    {
     "data": {
      "text/plain": [
       "KMeans(algorithm='auto', copy_x=True, init='k-means++', max_iter=300,\n",
       "       n_clusters=2, n_init=10, n_jobs=None, precompute_distances='auto',\n",
       "       random_state=None, tol=0.0001, verbose=0)"
      ]
     },
     "execution_count": 11,
     "metadata": {},
     "output_type": "execute_result"
    }
   ],
   "source": [
    "# Running KMeans to generate labels for X1\n",
    "kmeans = KMeans(n_clusters = 2)\n",
    "kmeans.fit(X1)\n",
    "\n"
   ]
  },
  {
   "cell_type": "code",
   "execution_count": 12,
   "metadata": {},
   "outputs": [
    {
     "data": {
      "text/plain": [
       "KMeans(algorithm='auto', copy_x=True, init='k-means++', max_iter=300,\n",
       "       n_clusters=4, n_init=10, n_jobs=None, precompute_distances='auto',\n",
       "       random_state=None, tol=0.0001, verbose=0)"
      ]
     },
     "execution_count": 12,
     "metadata": {},
     "output_type": "execute_result"
    }
   ],
   "source": [
    "# Running KMeans to generate labels for X2\n",
    "kmeans = KMeans(n_clusters = 4)\n",
    "kmeans.fit(X2)\n",
    "\n"
   ]
  },
  {
   "cell_type": "markdown",
   "metadata": {},
   "source": [
    "### T-SNE for X1"
   ]
  },
  {
   "cell_type": "code",
   "execution_count": 13,
   "metadata": {},
   "outputs": [
    {
     "data": {
      "text/plain": [
       "'t-SNE1.html'"
      ]
     },
     "execution_count": 13,
     "metadata": {},
     "output_type": "execute_result"
    }
   ],
   "source": [
    "# Implementing t-SNE to visualize dataset for X1\n",
    "tsne = TSNE(n_components = 2, perplexity =30,n_iter=2000)\n",
    "x_tsne = tsne.fit_transform(X1)\n",
    "\n",
    "age = list(X['age'])\n",
    "job = list(X['job'])\n",
    "marital = list(X['marital'])\n",
    "education = list(X['education'])\n",
    "\n",
    "data = [go.Scatter(x=x_tsne[:,0], y=x_tsne[:,1], mode='markers',\n",
    "                    marker = dict(color=kmeans.labels_, colorscale='Rainbow', opacity=0.5),\n",
    "                                text=[f'age: {a}; job: {b}; marital:{c}; education:{d}' for a,b,c,d in list(zip(age,job,marital,education))],\n",
    "                                hoverinfo='text')]\n",
    "\n",
    "layout = go.Layout(title = 't-SNE Dimensionality Reduction', width = 700, height = 700,\n",
    "                    xaxis = dict(title='First Dimension'),\n",
    "                    yaxis = dict(title='Second Dimension'))\n",
    "fig = go.Figure(data=data, layout=layout)\n",
    "offline.plot(fig,filename='t-SNE1.html')\n"
   ]
  },
  {
   "cell_type": "markdown",
   "metadata": {},
   "source": [
    "### T-SNE for X2"
   ]
  },
  {
   "cell_type": "code",
   "execution_count": 15,
   "metadata": {},
   "outputs": [
    {
     "data": {
      "text/plain": [
       "'t-SNE1.html'"
      ]
     },
     "execution_count": 15,
     "metadata": {},
     "output_type": "execute_result"
    }
   ],
   "source": [
    "# Implementing t-SNE to visualize dataset for X2\n",
    "tsne = TSNE(n_components = 2, perplexity =30,n_iter=2000)\n",
    "x_tsne = tsne.fit_transform(X2)\n",
    "\n",
    "age = list(X['age'])\n",
    "balance = list(X['balance'])\n",
    "housing = list(X['housing'])\n",
    "personal = list(X['personal'])\n",
    "term = list(X['term'])\n",
    "default = list(X['default'])\n",
    "\n",
    "data = [go.Scatter(x=x_tsne[:,0], y=x_tsne[:,1], mode='markers',\n",
    "                    marker = dict(color=kmeans.labels_, colorscale='Rainbow', opacity=0.5),\n",
    "                                text=[f'age: {a}; balance: {b}; housing:{c}; personal:{d}; term:{e};default:{f}' for a,b,c,d,e,f in list(zip(age,balance,housing,personal,term,default))],\n",
    "                                hoverinfo='text')]\n",
    "\n",
    "layout = go.Layout(title = 't-SNE Dimensionality Reduction', width = 700, height = 700,\n",
    "                    xaxis = dict(title='First Dimension'),\n",
    "                    yaxis = dict(title='Second Dimension'))\n",
    "fig = go.Figure(data=data, layout=layout)\n",
    "offline.plot(fig,filename='t-SNE1.html')\n"
   ]
  },
  {
   "cell_type": "code",
   "execution_count": null,
   "metadata": {},
   "outputs": [],
   "source": []
  }
 ],
 "metadata": {
  "kernelspec": {
   "display_name": "Python 3",
   "language": "python",
   "name": "python3"
  },
  "language_info": {
   "codemirror_mode": {
    "name": "ipython",
    "version": 3
   },
   "file_extension": ".py",
   "mimetype": "text/x-python",
   "name": "python",
   "nbconvert_exporter": "python",
   "pygments_lexer": "ipython3",
   "version": "3.8.2"
  }
 },
 "nbformat": 4,
 "nbformat_minor": 4
}
